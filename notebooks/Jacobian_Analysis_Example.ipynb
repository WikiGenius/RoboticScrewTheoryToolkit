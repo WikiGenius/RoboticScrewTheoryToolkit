{
 "cells": [
  {
   "cell_type": "code",
   "execution_count": 1,
   "metadata": {},
   "outputs": [],
   "source": [
    "import numpy as np\n",
    "from src.utils.utils import screw_axis\n",
    "from src.jacobian.space_jacobian import space_jacobian\n",
    "from src.jacobian.calculate_twist import calculate_twist\n",
    "from src.jacobian.calculate_joint_velocities import calculate_joint_velocities\n",
    "from src.jacobian.analyze_jacobian import analyze_jacobian\n"
   ]
  },
  {
   "attachments": {},
   "cell_type": "markdown",
   "metadata": {},
   "source": [
    "## Calculate the space Jacobian\n"
   ]
  },
  {
   "cell_type": "code",
   "execution_count": 2,
   "metadata": {},
   "outputs": [
    {
     "name": "stdout",
     "output_type": "stream",
     "text": [
      "Space Jacobian J:\n",
      " [[ 0.    0.71  0.71  0.71  0.71  0.71]\n",
      " [ 0.   -0.71 -0.71 -0.71  0.71 -0.71]\n",
      " [ 1.    0.    0.    0.   -0.    0.  ]\n",
      " [ 0.    0.06 -0.09 -0.36  0.36 -0.36]\n",
      " [ 0.    0.06 -0.09 -0.36 -0.36 -0.36]\n",
      " [ 0.    0.    0.37  0.37  0.11  0.27]]\n"
     ]
    }
   ],
   "source": [
    "# Joint angle vector\n",
    "jt_list = list(\"RRRRRR\")\n",
    "n_joints = len(jt_list)\n",
    "\n",
    "# Define the link lengths and offsets\n",
    "L1, L2, H1, H2, W1, W2 = (0.425, 0.392, 0.089, 0.095, 0.109, 0.082)  # All values in m\n",
    "\n",
    "# Define the arbitrary points on the joint axes at zero configuration\n",
    "a = np.array([[0, 0, 0],\n",
    "              [0, 0, H1],\n",
    "              [-L1, 0, H1],\n",
    "              [-L1 - L2, 0, H1],\n",
    "              [-L1 - L2, -W1, 0],\n",
    "              [-L1 - L2, 0, H1 - H2]])\n",
    "\n",
    "# Define the rotational parts of the screw axes\n",
    "omega = np.array([[0, 0, 1],\n",
    "                    [0, -1, 0],\n",
    "                    [0, -1, 0],\n",
    "                    [0, -1, 0],\n",
    "                    [0, 0, -1],\n",
    "                    [0, -1, 0]])\n",
    "\n",
    "# Calculate the translational components of the screw axis\n",
    "S = [screw_axis(omega[i], a[i], jt_list[i]) for i in range(n_joints)]\n",
    "\n",
    "\n",
    "# Example joint angles (in radians)\n",
    "q_list = [np.pi/4, np.pi/6, np.pi/3, 0, 0, np.pi/2]  # rad\n",
    "\n",
    "# Calculate the space Jacobian\n",
    "J = space_jacobian(S, q_list)\n",
    "print(\"Space Jacobian J:\\n\", np.round(J, 2))\n"
   ]
  },
  {
   "attachments": {},
   "cell_type": "markdown",
   "metadata": {},
   "source": [
    "## Analyze the Jacobian"
   ]
  },
  {
   "cell_type": "code",
   "execution_count": 3,
   "metadata": {},
   "outputs": [
    {
     "name": "stdout",
     "output_type": "stream",
     "text": [
      "Determinant: 0.0\n",
      "Rank: 5\n",
      "Is Singular: True\n"
     ]
    }
   ],
   "source": [
    "# Analyze the Jacobian\n",
    "analysis = analyze_jacobian(J)\n",
    "print(\"Determinant:\", analysis['determinant'])\n",
    "print(\"Rank:\", analysis['rank'])\n",
    "print(\"Is Singular:\", analysis['is_singular'])\n"
   ]
  },
  {
   "attachments": {},
   "cell_type": "markdown",
   "metadata": {},
   "source": [
    "## Calculate the twist"
   ]
  },
  {
   "cell_type": "code",
   "execution_count": 4,
   "metadata": {},
   "outputs": [
    {
     "name": "stdout",
     "output_type": "stream",
     "text": [
      "For Joint velocities: [1 1 1 1 1 1]\n",
      "Twist (V_s): [ 3.54 -2.12  1.   -0.39 -1.12  1.12]\n"
     ]
    }
   ],
   "source": [
    "# Define joint velocities\n",
    "q_dot = np.array([1, 1, 1, 1, 1, 1])  # rad / sec\n",
    "\n",
    "# Calculate the twist\n",
    "V_s = calculate_twist(J, q_dot)\n",
    "print(\"For Joint velocities:\", q_dot)\n",
    "print(\"Twist (V_s):\", np.round(V_s, 2))\n",
    "\n"
   ]
  },
  {
   "attachments": {},
   "cell_type": "markdown",
   "metadata": {},
   "source": [
    "## Calculate joint velocities for the given twist"
   ]
  },
  {
   "cell_type": "code",
   "execution_count": 5,
   "metadata": {},
   "outputs": [
    {
     "name": "stdout",
     "output_type": "stream",
     "text": [
      "Joint Velocities (q_dot): [1. 1. 1. 1. 1. 1.]\n"
     ]
    }
   ],
   "source": [
    "# Calculate joint velocities for the given twist\n",
    "q_dot_calculated = calculate_joint_velocities(J, V_s)\n",
    "print(\"Joint Velocities (q_dot):\", np.round(q_dot_calculated, 2))"
   ]
  }
 ],
 "metadata": {
  "kernelspec": {
   "display_name": ".venv",
   "language": "python",
   "name": "python3"
  },
  "language_info": {
   "codemirror_mode": {
    "name": "ipython",
    "version": 3
   },
   "file_extension": ".py",
   "mimetype": "text/x-python",
   "name": "python",
   "nbconvert_exporter": "python",
   "pygments_lexer": "ipython3",
   "version": "3.10.9"
  },
  "orig_nbformat": 4
 },
 "nbformat": 4,
 "nbformat_minor": 2
}
