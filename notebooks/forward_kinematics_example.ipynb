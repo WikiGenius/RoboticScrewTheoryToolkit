{
 "cells": [
  {
   "cell_type": "code",
   "execution_count": 1,
   "metadata": {},
   "outputs": [],
   "source": [
    "import numpy as np\n",
    "from src.fk.forward_kinematics import forward_kinematics\n",
    "from src.utils.utils import screw_axis"
   ]
  },
  {
   "attachments": {},
   "cell_type": "markdown",
   "metadata": {},
   "source": [
    "## Example 1"
   ]
  },
  {
   "cell_type": "code",
   "execution_count": 2,
   "metadata": {},
   "outputs": [
    {
     "name": "stdout",
     "output_type": "stream",
     "text": [
      "End-Effector Transformation Matrix:\n",
      " [[ 0.61 -0.71  0.35  0.31]\n",
      " [ 0.61  0.71  0.35  0.31]\n",
      " [-0.5   0.    0.87 -0.15]\n",
      " [ 0.    0.    0.    1.  ]]\n"
     ]
    }
   ],
   "source": [
    "M = np.array([[1, 0, 0, 0.5],  # Replace with actual values\n",
    "              [0, 1, 0, 0],\n",
    "              [0, 0, 1, 0.1],\n",
    "              [0, 0, 0, 1]])\n",
    "S1 = [0, 0, 1, 0, 0, 0]  # Screw axis for joint 1\n",
    "S2 = [0, 1, 0, -0.1, 0, 0]  # Screw axis for joint 2\n",
    "S = [S1, S2]\n",
    "\n",
    "q = [np.pi/4, np.pi/6]  # Example joint angles\n",
    "T_end_effector = forward_kinematics(M, S, q)\n",
    "print(\"End-Effector Transformation Matrix:\\n\", np.round(T_end_effector, 2))"
   ]
  },
  {
   "attachments": {},
   "cell_type": "markdown",
   "metadata": {},
   "source": [
    "## Example 2"
   ]
  },
  {
   "cell_type": "code",
   "execution_count": 3,
   "metadata": {},
   "outputs": [
    {
     "name": "stdout",
     "output_type": "stream",
     "text": [
      "End-Effector Transformation Matrix:\n",
      " [[-0.99 -0.14  0.   -0.04]\n",
      " [ 0.14 -0.99  0.    1.62]\n",
      " [ 0.    0.    1.    0.  ]\n",
      " [ 0.   -0.    0.    1.  ]]\n"
     ]
    }
   ],
   "source": [
    "\n",
    "# joint angle vector (1)\n",
    "jt_list=list(\"RRR\")\n",
    "n_joints = len(jt_list)\n",
    "\n",
    "# Define the link lengths and offsets\n",
    "l1, l2, l3 = 1.0, 1.0, 1.0\n",
    "\n",
    "# Home configuration matrix (2)\n",
    "M = np.eye(4)\n",
    "M[0, 3] = l1 + l2 + l3\n",
    "\n",
    "# Define the arbitrary points on the joint axes at zero configuration (3)\n",
    "a1 = np.array([0, 0, 0])  # Base of the first link\n",
    "a2 = np.array([l1, 0, 0]) # End of the first link, base of the second\n",
    "a3 = np.array([l1 + l2, 0, 0]) # End of the second link, base of the third\n",
    "\n",
    "a = np.array([a1, a2, a3])\n",
    "\n",
    "# Define the rotational parts of the screw axes (4)\n",
    "omega1 = np.array([0, 0, 1])\n",
    "omega2 = np.array([0, 0, 1])\n",
    "omega3 = np.array([0, 0, 1])\n",
    "\n",
    "omega = np.array([omega1, omega2, omega3])\n",
    "\n",
    "#####################################################################################\n",
    "\n",
    "# Combine omega and v to create the full screw axis for each joint\n",
    "S = []\n",
    "for i in range(n_joints):\n",
    "  S_i = screw_axis(omega[i], a[i], jt_list[i])\n",
    "\n",
    "  S.append(S_i)\n",
    "##########################################################\n",
    "\n",
    "\n",
    "# Define q as symbolic or as specific values\n",
    "q= [0.5, 1.0, 1.5]  # Using radians\n",
    "# Calculate the transformation matrix (5)\n",
    "T_end_effector = forward_kinematics(M, S, q)\n",
    "print(\"End-Effector Transformation Matrix:\\n\", np.round(T_end_effector, 2))\n"
   ]
  },
  {
   "attachments": {},
   "cell_type": "markdown",
   "metadata": {},
   "source": [
    "## Example 3"
   ]
  },
  {
   "cell_type": "code",
   "execution_count": 4,
   "metadata": {},
   "outputs": [
    {
     "name": "stdout",
     "output_type": "stream",
     "text": [
      "End-Effector Transformation Matrix:\n",
      " [[   0.    1.    0.  -95.]\n",
      " [  -1.    0.    0. -109.]\n",
      " [  -0.    0.    1.  988.]\n",
      " [   0.   -0.   -0.    1.]]\n"
     ]
    }
   ],
   "source": [
    "# joint angle vector (1)\n",
    "jt_list=list(\"RRRRRR\")\n",
    "n_joints = len(jt_list)\n",
    "\n",
    "# Define the link lengths and offsets\n",
    "L1, L2, H1, H2, W1, W2 = (425, 392, 89, 95, 109, 82)  # All values in mm\n",
    "\n",
    "# Home configuration matrix (2)\n",
    "M = np.array([\n",
    "    [1, 0, 0, -L1 - L2],\n",
    "    [0, 0, -1, -W1 - W2],\n",
    "    [0, 1, 0, H1 - H2],\n",
    "    [0, 0, 0, 1]\n",
    "])\n",
    "# Define the arbitrary points on the joint axes at zero configuration (3)\n",
    "a1 = np.array([0, 0, 0])\n",
    "a2 = np.array([0, 0, H1])\n",
    "a3 = np.array([-L1, 0, H1])\n",
    "a4 = np.array([-L1 - L2, 0, H1])\n",
    "a5 = np.array([-L1 - L2, -W1, 0])\n",
    "a6 = np.array([-L1 - L2, 0, H1 - H2])\n",
    "\n",
    "a = np.array([a1, a2, a3, a4, a5, a6])\n",
    "\n",
    "# Define the rotational parts of the screw axes (4)\n",
    "omega1 = np.array([0, 0, 1])\n",
    "omega2 = np.array([0, -1, 0])\n",
    "omega3 = np.array([0, -1, 0])\n",
    "omega4 = np.array([0, -1, 0])\n",
    "omega5 = np.array([0, 0, -1])\n",
    "omega6 = np.array([0, -1, 0])\n",
    "\n",
    "omega = np.array([omega1, omega2, omega3, omega4, omega5, omega6])\n",
    "\n",
    "#####################################################################################\n",
    "\n",
    "\n",
    "# Combine omega and v to create the full screw axis for each joint\n",
    "S = []\n",
    "for i in range(n_joints):\n",
    "  S_i = screw_axis(omega[i], a[i], jt_list[i])\n",
    "\n",
    "  S.append(S_i)\n",
    "##########################################################\n",
    "\n",
    "\n",
    "# Define q as symbolic or as specific values\n",
    "q= [0, -np.pi/2, 0, 0, np.pi/2, 0]  # Using radians\n",
    "\n",
    "# Calculate the transformation matrix (5)\n",
    "T_end_effector = forward_kinematics(M, S, q)\n",
    "print(\"End-Effector Transformation Matrix:\\n\", np.round(T_end_effector, 2))\n",
    "\n"
   ]
  },
  {
   "attachments": {},
   "cell_type": "markdown",
   "metadata": {},
   "source": [
    "## Example 4\n"
   ]
  },
  {
   "cell_type": "code",
   "execution_count": 5,
   "metadata": {},
   "outputs": [
    {
     "name": "stdout",
     "output_type": "stream",
     "text": [
      "End-Effector Transformation Matrix:\n",
      " [[ -1.   0.   0. 325.]\n",
      " [  0.   1.   0. 225.]\n",
      " [  0.   0.  -1.  56.]\n",
      " [ -0.   0.   0.   1.]]\n"
     ]
    }
   ],
   "source": [
    "\n",
    "# joint angle vector (1)\n",
    "jt_list=list(\"RRPR\")\n",
    "n_joints = len(jt_list)\n",
    "\n",
    "# Define the link lengths and offsets\n",
    "l1, l2, l0 = (325, 225, 46)  # All values in mm\n",
    "\n",
    "# Home configuration matrix (2)\n",
    "M = np.array([\n",
    "    [1, 0, 0, l1 + l2],\n",
    "    [0, -1, 0, 0],\n",
    "    [0, 0, -1, l0],\n",
    "    [0, 0, 0, 1]\n",
    "])\n",
    "# Define the arbitrary points on the joint axes at zero configuration (3)\n",
    "a1 = np.array([0, 0, 0])\n",
    "a2 = np.array([l1, 0, 0])\n",
    "a3 = np.array([0, 0,0])\n",
    "a4 = np.array([l1+l2, 0, 0])\n",
    "\n",
    "\n",
    "a = np.array([a1, a2, a3, a4])\n",
    "\n",
    "# Define the rotational parts of the screw axes (4)\n",
    "omega1 = np.array([0, 0, 1])\n",
    "omega2 = np.array([0, 0, 1])\n",
    "v_s3 = np.array([0, 0, 1])\n",
    "omega4 = np.array([0, 0, -1])\n",
    "\n",
    "\n",
    "omega_v = np.array([omega1, omega2, v_s3, omega4])\n",
    "\n",
    "#####################################################################################\n",
    "\n",
    "\n",
    "# Combine omega and v to create the full screw axis for each joint\n",
    "S = []\n",
    "for i in range(n_joints):\n",
    "  S_i = screw_axis(omega_v[i], a[i], jt_list[i])\n",
    "\n",
    "  S.append(S_i)\n",
    "##########################################################\n",
    "\n",
    "\n",
    "# Define q as symbolic or as specific values\n",
    "q= [0, np.pi/2, 10, -np.pi/2]  # Using radians\n",
    "\n",
    "# Calculate the transformation matrix (5)\n",
    "T_end_effector = forward_kinematics(M, S, q)\n",
    "print(\"End-Effector Transformation Matrix:\\n\", np.round(T_end_effector, 2))\n",
    "##########################################################\n",
    "\n"
   ]
  },
  {
   "attachments": {},
   "cell_type": "markdown",
   "metadata": {},
   "source": [
    "## Example 5\n"
   ]
  },
  {
   "cell_type": "code",
   "execution_count": 6,
   "metadata": {},
   "outputs": [
    {
     "name": "stdout",
     "output_type": "stream",
     "text": [
      "End-Effector Transformation Matrix:\n",
      " [[  0.     1.     0.   550.  ]\n",
      " [  1.     0.     0.     0.  ]\n",
      " [  0.     0.    -1.    57.57]\n",
      " [  0.     0.     0.     1.  ]]\n"
     ]
    }
   ],
   "source": [
    "\n",
    "# joint angle vector (1)\n",
    "jt_list=list(\"RPPR\")\n",
    "n_joints = len(jt_list)\n",
    "\n",
    "# Define the link lengths and offsets\n",
    "l1, l2, l0 = (325, 225, 46)  # All values in mm\n",
    "\n",
    "# Home configuration matrix (2)\n",
    "M = np.array([\n",
    "    [1, 0, 0, l1 + l2],\n",
    "    [0, -1, 0, 0],\n",
    "    [0, 0, -1, l0],\n",
    "    [0, 0, 0, 1]\n",
    "])\n",
    "# Define the arbitrary points on the joint axes at zero configuration (3)\n",
    "a1 = np.array([0, 0, 0])\n",
    "a2 = np.array([l1, 0, 0])\n",
    "a3 = np.array([0, 0,0])\n",
    "a4 = np.array([l1+l2, 0, 0])\n",
    "\n",
    "\n",
    "a = np.array([a1, a2, a3, a4])\n",
    "\n",
    "# Define the rotational parts of the screw axes (4)\n",
    "omega1 = np.array([0, 0, 1])\n",
    "v_s2 = np.array([0, 0, 1])\n",
    "v_s3 = np.array([0, 0, 1])\n",
    "omega4 = np.array([0, 0, -1])\n",
    "\n",
    "\n",
    "omega_v = np.array([omega1, v_s2, v_s3, omega4])\n",
    "\n",
    "#####################################################################################\n",
    "\n",
    "\n",
    "# Combine omega and v to create the full screw axis for each joint\n",
    "S = []\n",
    "for i in range(n_joints):\n",
    "  S_i = screw_axis(omega_v[i], a[i], jt_list[i])\n",
    "\n",
    "  S.append(S_i)\n",
    "##########################################################\n",
    "\n",
    "\n",
    "# Define q as symbolic or as specific values\n",
    "q= [0, np.pi/2, 10, -np.pi/2]  # Using radians\n",
    "\n",
    "# Calculate the transformation matrix (5)\n",
    "T_end_effector = forward_kinematics(M, S, q)\n",
    "print(\"End-Effector Transformation Matrix:\\n\", np.round(T_end_effector, 2))\n",
    "##########################################################\n",
    "\n"
   ]
  },
  {
   "attachments": {},
   "cell_type": "markdown",
   "metadata": {},
   "source": [
    "# Example 6\n"
   ]
  },
  {
   "cell_type": "code",
   "execution_count": 7,
   "metadata": {},
   "outputs": [
    {
     "name": "stdout",
     "output_type": "stream",
     "text": [
      "End-Effector Transformation Matrix:\n",
      " [[ 0. -1.  0.  1.]\n",
      " [ 1.  0.  0.  1.]\n",
      " [ 0.  0.  1.  0.]\n",
      " [ 0.  0.  0.  1.]]\n"
     ]
    }
   ],
   "source": [
    "\n",
    "# joint angle vector (1)\n",
    "jt_list=list(\"RR\")\n",
    "n_joints = len(jt_list)\n",
    "\n",
    "# Define the link lengths and offsets\n",
    "l1, l2 = (1, 1)  # All values in mm\n",
    "\n",
    "# Home configuration matrix (2)\n",
    "M = np.array([\n",
    "    [1, 0, 0, l1 + l2],\n",
    "    [0, 1, 0, 0],\n",
    "    [0, 0, 1, 0],\n",
    "    [0, 0, 0, 1]\n",
    "])\n",
    "# Define the arbitrary points on the joint axes at zero configuration (3)\n",
    "a1 = np.array([0, 0, 0])\n",
    "a2 = np.array([l1, 0, 0])\n",
    "\n",
    "\n",
    "\n",
    "a = np.array([a1, a2])\n",
    "\n",
    "# Define the rotational parts of the screw axes (4)\n",
    "omega1 = np.array([0, 0, 1])\n",
    "omega2 = np.array([0, 0, 1])\n",
    "\n",
    "\n",
    "omega = np.array([omega1, omega2])\n",
    "\n",
    "#####################################################################################\n",
    "\n",
    "\n",
    "# Combine omega and v to create the full screw axis for each joint\n",
    "S = []\n",
    "for i in range(n_joints):\n",
    "  S_i = screw_axis(omega[i], a[i], jt_list[i])\n",
    "\n",
    "  S.append(S_i)\n",
    "##########################################################\n",
    "\n",
    "\n",
    "# Define q as symbolic or as specific values\n",
    "q= [0, np.pi/2]  # Using radians\n",
    "\n",
    "# Calculate the transformation matrix (5)\n",
    "T_end_effector = forward_kinematics(M, S, q)\n",
    "print(\"End-Effector Transformation Matrix:\\n\", np.round(T_end_effector, 2))\n",
    "##########################################################\n",
    "\n"
   ]
  }
 ],
 "metadata": {
  "kernelspec": {
   "display_name": ".venv",
   "language": "python",
   "name": "python3"
  },
  "language_info": {
   "codemirror_mode": {
    "name": "ipython",
    "version": 3
   },
   "file_extension": ".py",
   "mimetype": "text/x-python",
   "name": "python",
   "nbconvert_exporter": "python",
   "pygments_lexer": "ipython3",
   "version": "3.10.9"
  },
  "orig_nbformat": 4
 },
 "nbformat": 4,
 "nbformat_minor": 2
}
